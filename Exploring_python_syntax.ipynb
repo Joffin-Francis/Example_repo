{
  "nbformat": 4,
  "nbformat_minor": 0,
  "metadata": {
    "colab": {
      "provenance": [],
      "authorship_tag": "ABX9TyOm8jd2N9j5wiMwgF5uAWCY",
      "include_colab_link": true
    },
    "kernelspec": {
      "name": "python3",
      "display_name": "Python 3"
    },
    "language_info": {
      "name": "python"
    }
  },
  "cells": [
    {
      "cell_type": "markdown",
      "metadata": {
        "id": "view-in-github",
        "colab_type": "text"
      },
      "source": [
        "<a href=\"https://colab.research.google.com/github/Joffin-Francis/Example_repo/blob/main/Exploring_python_syntax.ipynb\" target=\"_parent\"><img src=\"https://colab.research.google.com/assets/colab-badge.svg\" alt=\"Open In Colab\"/></a>"
      ]
    },
    {
      "cell_type": "markdown",
      "source": [
        "#Python Data types"
      ],
      "metadata": {
        "id": "ks9kpwnTdNc3"
      }
    },
    {
      "cell_type": "code",
      "source": [
        "print(7+8)"
      ],
      "metadata": {
        "colab": {
          "base_uri": "https://localhost:8080/"
        },
        "id": "mbFEdUhWdVDh",
        "outputId": "7fb03941-56f0-45db-e656-a54427db3cd3"
      },
      "execution_count": 1,
      "outputs": [
        {
          "output_type": "stream",
          "name": "stdout",
          "text": [
            "15\n"
          ]
        }
      ]
    },
    {
      "cell_type": "code",
      "source": [
        "print(\"hello \"+\"world\")"
      ],
      "metadata": {
        "colab": {
          "base_uri": "https://localhost:8080/"
        },
        "id": "9vv6qFGsdlmw",
        "outputId": "7a66f0be-2451-439d-f6ff-84ae94832d10"
      },
      "execution_count": 5,
      "outputs": [
        {
          "output_type": "stream",
          "name": "stdout",
          "text": [
            "hello world\n"
          ]
        }
      ]
    },
    {
      "cell_type": "code",
      "source": [
        "print(type(\"a\"))"
      ],
      "metadata": {
        "colab": {
          "base_uri": "https://localhost:8080/"
        },
        "id": "vayhzl-_dyjN",
        "outputId": "2646bc29-1c4b-4eb1-d7f3-6fdbbddf88f1"
      },
      "execution_count": 6,
      "outputs": [
        {
          "output_type": "stream",
          "name": "stdout",
          "text": [
            "<class 'str'>\n"
          ]
        }
      ]
    },
    {
      "cell_type": "code",
      "source": [
        "print(type(2))"
      ],
      "metadata": {
        "colab": {
          "base_uri": "https://localhost:8080/"
        },
        "id": "HVTcGjHKeQ0O",
        "outputId": "d7315c47-0997-4985-8450-350037044d26"
      },
      "execution_count": 7,
      "outputs": [
        {
          "output_type": "stream",
          "name": "stdout",
          "text": [
            "<class 'int'>\n"
          ]
        }
      ]
    },
    {
      "cell_type": "code",
      "source": [
        "print(type(2.5))"
      ],
      "metadata": {
        "colab": {
          "base_uri": "https://localhost:8080/"
        },
        "id": "7KbYTSXneV9_",
        "outputId": "3ba48ad1-9969-4a71-87b6-04df608f20e3"
      },
      "execution_count": 8,
      "outputs": [
        {
          "output_type": "stream",
          "name": "stdout",
          "text": [
            "<class 'float'>\n"
          ]
        }
      ]
    },
    {
      "cell_type": "markdown",
      "source": [
        "#Variables"
      ],
      "metadata": {
        "id": "NWlf19cDegOH"
      }
    },
    {
      "cell_type": "code",
      "source": [
        "length=10\n",
        "width=2\n",
        "area=length * width\n",
        "print(area)"
      ],
      "metadata": {
        "colab": {
          "base_uri": "https://localhost:8080/"
        },
        "id": "jcuAq4gaeiKv",
        "outputId": "08204859-9ac6-4caa-d13c-edece1b8b645"
      },
      "execution_count": 10,
      "outputs": [
        {
          "output_type": "stream",
          "name": "stdout",
          "text": [
            "20\n"
          ]
        }
      ]
    },
    {
      "cell_type": "code",
      "source": [
        "print(7+8.5)"
      ],
      "metadata": {
        "colab": {
          "base_uri": "https://localhost:8080/"
        },
        "id": "V2G9cjXxgDDH",
        "outputId": "21a7a4d1-8334-422d-bfd1-c9b9df5cba2f"
      },
      "execution_count": 11,
      "outputs": [
        {
          "output_type": "stream",
          "name": "stdout",
          "text": [
            "15.5\n"
          ]
        }
      ]
    },
    {
      "cell_type": "markdown",
      "source": [
        "#Expressions,Numbersand Type Conversions"
      ],
      "metadata": {
        "id": "EISQKXOFgMGH"
      }
    },
    {
      "cell_type": "code",
      "source": [
        "print(\"a\"+\"b\"+\"c\")"
      ],
      "metadata": {
        "colab": {
          "base_uri": "https://localhost:8080/"
        },
        "id": "udVO-VnQgWTf",
        "outputId": "ff625337-c4eb-4968-80c1-a388c4b39c25"
      },
      "execution_count": 12,
      "outputs": [
        {
          "output_type": "stream",
          "name": "stdout",
          "text": [
            "abc\n"
          ]
        }
      ]
    },
    {
      "cell_type": "code",
      "source": [
        "print(\"This \"+\"is \"+\"pretty \"+\"neat! \")"
      ],
      "metadata": {
        "colab": {
          "base_uri": "https://localhost:8080/"
        },
        "id": "YMjMyrzkgh22",
        "outputId": "1276c489-43c5-47d5-8063-a76b920111ec"
      },
      "execution_count": 14,
      "outputs": [
        {
          "output_type": "stream",
          "name": "stdout",
          "text": [
            "This is pretty neat! \n"
          ]
        }
      ]
    },
    {
      "cell_type": "code",
      "source": [
        "base =6\n",
        "height=3\n",
        "area =(base*height)/2\n",
        "print(\"The area of the triangle is \"+str(area))"
      ],
      "metadata": {
        "colab": {
          "base_uri": "https://localhost:8080/"
        },
        "id": "Gi1lB_Vyg3X-",
        "outputId": "ac8c934f-c699-4914-b008-ec5d4097cc07"
      },
      "execution_count": 16,
      "outputs": [
        {
          "output_type": "stream",
          "name": "stdout",
          "text": [
            "The area of the triangle is 9.0\n"
          ]
        }
      ]
    },
    {
      "cell_type": "markdown",
      "source": [
        "#Defining functions"
      ],
      "metadata": {
        "id": "K8Ln_Ov_hTgm"
      }
    },
    {
      "cell_type": "code",
      "source": [],
      "metadata": {
        "id": "nZ3s2P4whVmP"
      },
      "execution_count": null,
      "outputs": []
    }
  ]
}